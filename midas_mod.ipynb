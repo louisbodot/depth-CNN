{
  "cells": [
    {
      "cell_type": "markdown",
      "id": "filled-enclosure",
      "metadata": {
        "id": "filled-enclosure"
      },
      "source": [
        "### This notebook is optionally accelerated with a GPU runtime.\n",
        "### If you would like to use this acceleration, please select the menu option \"Runtime\" -> \"Change runtime type\", select \"Hardware Accelerator\" -> \"GPU\" and click \"SAVE\"\n",
        "\n",
        "----------------------------------------------------------------------\n",
        "\n",
        "# MiDaS\n",
        "\n",
        "*Author: Intel ISL*\n",
        "\n",
        "**MiDaS models for computing relative depth from a single image.**\n",
        "\n",
        "<img src=\"https://pytorch.org/assets/images/midas_samples.png\" alt=\"alt\" width=\"50%\"/>\n",
        "\n",
        "\n",
        "### Model Description\n",
        "\n",
        "[MiDaS](https://arxiv.org/abs/1907.01341) computes relative inverse depth from a single image. The repository provides multiple models that cover different use cases ranging from a small, high-speed model to a very large model that provide the highest accuracy. The models have been trained on 10 distinct datasets using\n",
        "multi-objective optimization to ensure high quality on a wide range of inputs.\n",
        "\n",
        "### Dependencies\n",
        "\n",
        "MiDaS depends on [timm](https://github.com/rwightman/pytorch-image-models). Install with"
      ]
    },
    {
      "cell_type": "code",
      "execution_count": 1,
      "id": "heard-progressive",
      "metadata": {
        "attributes": {
          "classes": [
            "shell"
          ],
          "id": ""
        },
        "id": "heard-progressive",
        "outputId": "b638ed7f-c405-49a6-aaf4-307d1df7af78",
        "colab": {
          "base_uri": "https://localhost:8080/"
        }
      },
      "outputs": [
        {
          "output_type": "stream",
          "name": "stdout",
          "text": [
            "Collecting timm\n",
            "  Downloading timm-0.5.4-py3-none-any.whl (431 kB)\n",
            "\u001b[?25l\r\u001b[K     |▊                               | 10 kB 39.8 MB/s eta 0:00:01\r\u001b[K     |█▌                              | 20 kB 43.8 MB/s eta 0:00:01\r\u001b[K     |██▎                             | 30 kB 37.0 MB/s eta 0:00:01\r\u001b[K     |███                             | 40 kB 40.0 MB/s eta 0:00:01\r\u001b[K     |███▉                            | 51 kB 24.6 MB/s eta 0:00:01\r\u001b[K     |████▋                           | 61 kB 27.4 MB/s eta 0:00:01\r\u001b[K     |█████▎                          | 71 kB 24.8 MB/s eta 0:00:01\r\u001b[K     |██████                          | 81 kB 26.9 MB/s eta 0:00:01\r\u001b[K     |██████▉                         | 92 kB 28.7 MB/s eta 0:00:01\r\u001b[K     |███████▋                        | 102 kB 27.9 MB/s eta 0:00:01\r\u001b[K     |████████▍                       | 112 kB 27.9 MB/s eta 0:00:01\r\u001b[K     |█████████▏                      | 122 kB 27.9 MB/s eta 0:00:01\r\u001b[K     |█████████▉                      | 133 kB 27.9 MB/s eta 0:00:01\r\u001b[K     |██████████▋                     | 143 kB 27.9 MB/s eta 0:00:01\r\u001b[K     |███████████▍                    | 153 kB 27.9 MB/s eta 0:00:01\r\u001b[K     |████████████▏                   | 163 kB 27.9 MB/s eta 0:00:01\r\u001b[K     |█████████████                   | 174 kB 27.9 MB/s eta 0:00:01\r\u001b[K     |█████████████▊                  | 184 kB 27.9 MB/s eta 0:00:01\r\u001b[K     |██████████████▍                 | 194 kB 27.9 MB/s eta 0:00:01\r\u001b[K     |███████████████▏                | 204 kB 27.9 MB/s eta 0:00:01\r\u001b[K     |████████████████                | 215 kB 27.9 MB/s eta 0:00:01\r\u001b[K     |████████████████▊               | 225 kB 27.9 MB/s eta 0:00:01\r\u001b[K     |█████████████████▌              | 235 kB 27.9 MB/s eta 0:00:01\r\u001b[K     |██████████████████▎             | 245 kB 27.9 MB/s eta 0:00:01\r\u001b[K     |███████████████████             | 256 kB 27.9 MB/s eta 0:00:01\r\u001b[K     |███████████████████▊            | 266 kB 27.9 MB/s eta 0:00:01\r\u001b[K     |████████████████████▌           | 276 kB 27.9 MB/s eta 0:00:01\r\u001b[K     |█████████████████████▎          | 286 kB 27.9 MB/s eta 0:00:01\r\u001b[K     |██████████████████████          | 296 kB 27.9 MB/s eta 0:00:01\r\u001b[K     |██████████████████████▉         | 307 kB 27.9 MB/s eta 0:00:01\r\u001b[K     |███████████████████████▌        | 317 kB 27.9 MB/s eta 0:00:01\r\u001b[K     |████████████████████████▎       | 327 kB 27.9 MB/s eta 0:00:01\r\u001b[K     |█████████████████████████       | 337 kB 27.9 MB/s eta 0:00:01\r\u001b[K     |█████████████████████████▉      | 348 kB 27.9 MB/s eta 0:00:01\r\u001b[K     |██████████████████████████▋     | 358 kB 27.9 MB/s eta 0:00:01\r\u001b[K     |███████████████████████████▍    | 368 kB 27.9 MB/s eta 0:00:01\r\u001b[K     |████████████████████████████    | 378 kB 27.9 MB/s eta 0:00:01\r\u001b[K     |████████████████████████████▉   | 389 kB 27.9 MB/s eta 0:00:01\r\u001b[K     |█████████████████████████████▋  | 399 kB 27.9 MB/s eta 0:00:01\r\u001b[K     |██████████████████████████████▍ | 409 kB 27.9 MB/s eta 0:00:01\r\u001b[K     |███████████████████████████████▏| 419 kB 27.9 MB/s eta 0:00:01\r\u001b[K     |████████████████████████████████| 430 kB 27.9 MB/s eta 0:00:01\r\u001b[K     |████████████████████████████████| 431 kB 27.9 MB/s \n",
            "\u001b[?25hRequirement already satisfied: torch>=1.4 in /usr/local/lib/python3.7/dist-packages (from timm) (1.10.0+cu111)\n",
            "Requirement already satisfied: torchvision in /usr/local/lib/python3.7/dist-packages (from timm) (0.11.1+cu111)\n",
            "Requirement already satisfied: typing-extensions in /usr/local/lib/python3.7/dist-packages (from torch>=1.4->timm) (3.10.0.2)\n",
            "Requirement already satisfied: numpy in /usr/local/lib/python3.7/dist-packages (from torchvision->timm) (1.19.5)\n",
            "Requirement already satisfied: pillow!=8.3.0,>=5.3.0 in /usr/local/lib/python3.7/dist-packages (from torchvision->timm) (7.1.2)\n",
            "Installing collected packages: timm\n",
            "Successfully installed timm-0.5.4\n"
          ]
        }
      ],
      "source": [
        "pip install timm"
      ]
    },
    {
      "cell_type": "markdown",
      "id": "southwest-kernel",
      "metadata": {
        "id": "southwest-kernel"
      },
      "source": [
        "### Example Usage\n",
        "\n",
        "Download an image from the PyTorch homepage"
      ]
    },
    {
      "cell_type": "code",
      "execution_count": 24,
      "id": "modern-charter",
      "metadata": {
        "id": "modern-charter",
        "outputId": "0d228565-163e-432d-a3c1-00e7b66419c6",
        "colab": {
          "base_uri": "https://localhost:8080/"
        }
      },
      "outputs": [
        {
          "output_type": "execute_result",
          "data": {
            "text/plain": [
              "('dog.jpg', <http.client.HTTPMessage at 0x7f0dcc48c910>)"
            ]
          },
          "metadata": {},
          "execution_count": 24
        }
      ],
      "source": [
        "import cv2\n",
        "import torch\n",
        "import urllib.request\n",
        "\n",
        "import matplotlib.pyplot as plt\n",
        "\n",
        "url, filename = (\"https://github.com/pytorch/hub/raw/master/images/dog.jpg\", \"dog.jpg\")\n",
        "urllib.request.urlretrieve(url, filename)"
      ]
    },
    {
      "cell_type": "markdown",
      "id": "foreign-discrimination",
      "metadata": {
        "id": "foreign-discrimination"
      },
      "source": [
        "Load a model (see [https://github.com/intel-isl/MiDaS/#Accuracy](https://github.com/intel-isl/MiDaS/#Accuracy) for an overview)"
      ]
    },
    {
      "cell_type": "code",
      "execution_count": 14,
      "id": "verified-receiver",
      "metadata": {
        "id": "verified-receiver",
        "outputId": "6a48011f-ed7d-4cf6-8d96-aee8ae5315d1",
        "colab": {
          "base_uri": "https://localhost:8080/",
          "height": 158,
          "referenced_widgets": [
            "2e76cd2e375e4435bd46ab690f12654e",
            "c1bbe52789c144e4a172e981b1094b68",
            "f77d148004634aa1ad50c5ed11185dbe",
            "e89eed54a68b45348d69952aa17062ca",
            "625d14b426684555bae45dbc5b12fca3",
            "0bdaef72a4894f52ae067633bfe1e540",
            "b747debb1f34499fb0a319c04ce86b3d",
            "801d3094342248c0bbc354e897cb6623",
            "842c2816f0e24d578390c6d30847fd87",
            "a1dfe6781b5249a6848d78fa231b2c52",
            "d1f5411037574dc98b11356a7fac06ee"
          ]
        }
      },
      "outputs": [
        {
          "output_type": "stream",
          "name": "stderr",
          "text": [
            "Using cache found in /root/.cache/torch/hub/intel-isl_MiDaS_master\n",
            "Downloading: \"https://github.com/rwightman/gen-efficientnet-pytorch/archive/master.zip\" to /root/.cache/torch/hub/master.zip\n"
          ]
        },
        {
          "output_type": "stream",
          "name": "stdout",
          "text": [
            "Loading weights:  None\n"
          ]
        },
        {
          "output_type": "stream",
          "name": "stderr",
          "text": [
            "Downloading: \"https://github.com/rwightman/pytorch-image-models/releases/download/v0.1-weights/tf_efficientnet_lite3-b733e338.pth\" to /root/.cache/torch/hub/checkpoints/tf_efficientnet_lite3-b733e338.pth\n",
            "Downloading: \"https://github.com/intel-isl/MiDaS/releases/download/v2_1/model-small-70d6b9c8.pt\" to /root/.cache/torch/hub/checkpoints/model-small-70d6b9c8.pt\n"
          ]
        },
        {
          "output_type": "display_data",
          "data": {
            "application/vnd.jupyter.widget-view+json": {
              "model_id": "2e76cd2e375e4435bd46ab690f12654e",
              "version_minor": 0,
              "version_major": 2
            },
            "text/plain": [
              "  0%|          | 0.00/81.8M [00:00<?, ?B/s]"
            ]
          },
          "metadata": {}
        }
      ],
      "source": [
        "#model_type = \"DPT_Large\"     # MiDaS v3 - Large     (highest accuracy, slowest inference speed)\n",
        "#model_type = \"DPT_Hybrid\"   # MiDaS v3 - Hybrid    (medium accuracy, medium inference speed)\n",
        "model_type = \"MiDaS_small\"  # MiDaS v2.1 - Small   (lowest accuracy, highest inference speed)\n",
        "\n",
        "midas = torch.hub.load(\"intel-isl/MiDaS\", model_type)"
      ]
    },
    {
      "cell_type": "markdown",
      "id": "enabling-bloom",
      "metadata": {
        "id": "enabling-bloom"
      },
      "source": [
        "Move model to GPU if available"
      ]
    },
    {
      "cell_type": "code",
      "execution_count": 25,
      "id": "sunrise-subscription",
      "metadata": {
        "id": "sunrise-subscription",
        "outputId": "2627c624-6638-47a7-8b34-213cee40cec8",
        "colab": {
          "base_uri": "https://localhost:8080/"
        }
      },
      "outputs": [
        {
          "output_type": "execute_result",
          "data": {
            "text/plain": [
              "()"
            ]
          },
          "metadata": {},
          "execution_count": 25
        }
      ],
      "source": [
        "device = torch.device(\"cuda\") if torch.cuda.is_available() else torch.device(\"cpu\")\n",
        "midas.to(device)\n",
        "midas.eval()\n",
        "()"
      ]
    },
    {
      "cell_type": "code",
      "source": [
        "for (name, layer) in midas._modules.items():\n",
        "    #iteration over outer layers\n",
        "    print((name))"
      ],
      "metadata": {
        "colab": {
          "base_uri": "https://localhost:8080/"
        },
        "id": "BrZodx8HapAk",
        "outputId": "2314488a-d530-4bdc-e954-3de64d319a10"
      },
      "id": "BrZodx8HapAk",
      "execution_count": 26,
      "outputs": [
        {
          "output_type": "stream",
          "name": "stdout",
          "text": [
            "pretrained\n",
            "scratch\n"
          ]
        }
      ]
    },
    {
      "cell_type": "code",
      "source": [
        "from torchvision import models\n",
        "from torchsummary import summary\n",
        "\n",
        "summary(midas, (3, 384, 480))"
      ],
      "metadata": {
        "colab": {
          "base_uri": "https://localhost:8080/"
        },
        "id": "t676pYSTcVjn",
        "outputId": "8ffcb513-7ae8-4be3-bd02-d32045db57f9"
      },
      "id": "t676pYSTcVjn",
      "execution_count": 27,
      "outputs": [
        {
          "output_type": "stream",
          "name": "stdout",
          "text": [
            "----------------------------------------------------------------\n",
            "        Layer (type)               Output Shape         Param #\n",
            "================================================================\n",
            "         ZeroPad2d-1          [-1, 3, 385, 481]               0\n",
            "  Conv2dSameExport-2         [-1, 32, 192, 240]             864\n",
            "       BatchNorm2d-3         [-1, 32, 192, 240]              64\n",
            "             ReLU6-4         [-1, 32, 192, 240]               0\n",
            "            Conv2d-5         [-1, 32, 192, 240]             288\n",
            "       BatchNorm2d-6         [-1, 32, 192, 240]              64\n",
            "             ReLU6-7         [-1, 32, 192, 240]               0\n",
            "          Identity-8         [-1, 32, 192, 240]               0\n",
            "            Conv2d-9         [-1, 24, 192, 240]             768\n",
            "      BatchNorm2d-10         [-1, 24, 192, 240]              48\n",
            "         Identity-11         [-1, 24, 192, 240]               0\n",
            "DepthwiseSeparableConv-12         [-1, 24, 192, 240]               0\n",
            "           Conv2d-13        [-1, 144, 192, 240]           3,456\n",
            "      BatchNorm2d-14        [-1, 144, 192, 240]             288\n",
            "            ReLU6-15        [-1, 144, 192, 240]               0\n",
            "        ZeroPad2d-16        [-1, 144, 193, 241]               0\n",
            " Conv2dSameExport-17         [-1, 144, 96, 120]           1,296\n",
            "      BatchNorm2d-18         [-1, 144, 96, 120]             288\n",
            "            ReLU6-19         [-1, 144, 96, 120]               0\n",
            "         Identity-20         [-1, 144, 96, 120]               0\n",
            "           Conv2d-21          [-1, 32, 96, 120]           4,608\n",
            "      BatchNorm2d-22          [-1, 32, 96, 120]              64\n",
            " InvertedResidual-23          [-1, 32, 96, 120]               0\n",
            "           Conv2d-24         [-1, 192, 96, 120]           6,144\n",
            "      BatchNorm2d-25         [-1, 192, 96, 120]             384\n",
            "            ReLU6-26         [-1, 192, 96, 120]               0\n",
            "           Conv2d-27         [-1, 192, 96, 120]           1,728\n",
            "      BatchNorm2d-28         [-1, 192, 96, 120]             384\n",
            "            ReLU6-29         [-1, 192, 96, 120]               0\n",
            "         Identity-30         [-1, 192, 96, 120]               0\n",
            "           Conv2d-31          [-1, 32, 96, 120]           6,144\n",
            "      BatchNorm2d-32          [-1, 32, 96, 120]              64\n",
            " InvertedResidual-33          [-1, 32, 96, 120]               0\n",
            "           Conv2d-34         [-1, 192, 96, 120]           6,144\n",
            "      BatchNorm2d-35         [-1, 192, 96, 120]             384\n",
            "            ReLU6-36         [-1, 192, 96, 120]               0\n",
            "           Conv2d-37         [-1, 192, 96, 120]           1,728\n",
            "      BatchNorm2d-38         [-1, 192, 96, 120]             384\n",
            "            ReLU6-39         [-1, 192, 96, 120]               0\n",
            "         Identity-40         [-1, 192, 96, 120]               0\n",
            "           Conv2d-41          [-1, 32, 96, 120]           6,144\n",
            "      BatchNorm2d-42          [-1, 32, 96, 120]              64\n",
            " InvertedResidual-43          [-1, 32, 96, 120]               0\n",
            "           Conv2d-44         [-1, 192, 96, 120]           6,144\n",
            "      BatchNorm2d-45         [-1, 192, 96, 120]             384\n",
            "            ReLU6-46         [-1, 192, 96, 120]               0\n",
            "        ZeroPad2d-47         [-1, 192, 99, 123]               0\n",
            " Conv2dSameExport-48          [-1, 192, 48, 60]           4,800\n",
            "      BatchNorm2d-49          [-1, 192, 48, 60]             384\n",
            "            ReLU6-50          [-1, 192, 48, 60]               0\n",
            "         Identity-51          [-1, 192, 48, 60]               0\n",
            "           Conv2d-52           [-1, 48, 48, 60]           9,216\n",
            "      BatchNorm2d-53           [-1, 48, 48, 60]              96\n",
            " InvertedResidual-54           [-1, 48, 48, 60]               0\n",
            "           Conv2d-55          [-1, 288, 48, 60]          13,824\n",
            "      BatchNorm2d-56          [-1, 288, 48, 60]             576\n",
            "            ReLU6-57          [-1, 288, 48, 60]               0\n",
            "           Conv2d-58          [-1, 288, 48, 60]           7,200\n",
            "      BatchNorm2d-59          [-1, 288, 48, 60]             576\n",
            "            ReLU6-60          [-1, 288, 48, 60]               0\n",
            "         Identity-61          [-1, 288, 48, 60]               0\n",
            "           Conv2d-62           [-1, 48, 48, 60]          13,824\n",
            "      BatchNorm2d-63           [-1, 48, 48, 60]              96\n",
            " InvertedResidual-64           [-1, 48, 48, 60]               0\n",
            "           Conv2d-65          [-1, 288, 48, 60]          13,824\n",
            "      BatchNorm2d-66          [-1, 288, 48, 60]             576\n",
            "            ReLU6-67          [-1, 288, 48, 60]               0\n",
            "           Conv2d-68          [-1, 288, 48, 60]           7,200\n",
            "      BatchNorm2d-69          [-1, 288, 48, 60]             576\n",
            "            ReLU6-70          [-1, 288, 48, 60]               0\n",
            "         Identity-71          [-1, 288, 48, 60]               0\n",
            "           Conv2d-72           [-1, 48, 48, 60]          13,824\n",
            "      BatchNorm2d-73           [-1, 48, 48, 60]              96\n",
            " InvertedResidual-74           [-1, 48, 48, 60]               0\n",
            "           Conv2d-75          [-1, 288, 48, 60]          13,824\n",
            "      BatchNorm2d-76          [-1, 288, 48, 60]             576\n",
            "            ReLU6-77          [-1, 288, 48, 60]               0\n",
            "        ZeroPad2d-78          [-1, 288, 49, 61]               0\n",
            " Conv2dSameExport-79          [-1, 288, 24, 30]           2,592\n",
            "      BatchNorm2d-80          [-1, 288, 24, 30]             576\n",
            "            ReLU6-81          [-1, 288, 24, 30]               0\n",
            "         Identity-82          [-1, 288, 24, 30]               0\n",
            "           Conv2d-83           [-1, 96, 24, 30]          27,648\n",
            "      BatchNorm2d-84           [-1, 96, 24, 30]             192\n",
            " InvertedResidual-85           [-1, 96, 24, 30]               0\n",
            "           Conv2d-86          [-1, 576, 24, 30]          55,296\n",
            "      BatchNorm2d-87          [-1, 576, 24, 30]           1,152\n",
            "            ReLU6-88          [-1, 576, 24, 30]               0\n",
            "           Conv2d-89          [-1, 576, 24, 30]           5,184\n",
            "      BatchNorm2d-90          [-1, 576, 24, 30]           1,152\n",
            "            ReLU6-91          [-1, 576, 24, 30]               0\n",
            "         Identity-92          [-1, 576, 24, 30]               0\n",
            "           Conv2d-93           [-1, 96, 24, 30]          55,296\n",
            "      BatchNorm2d-94           [-1, 96, 24, 30]             192\n",
            " InvertedResidual-95           [-1, 96, 24, 30]               0\n",
            "           Conv2d-96          [-1, 576, 24, 30]          55,296\n",
            "      BatchNorm2d-97          [-1, 576, 24, 30]           1,152\n",
            "            ReLU6-98          [-1, 576, 24, 30]               0\n",
            "           Conv2d-99          [-1, 576, 24, 30]           5,184\n",
            "     BatchNorm2d-100          [-1, 576, 24, 30]           1,152\n",
            "           ReLU6-101          [-1, 576, 24, 30]               0\n",
            "        Identity-102          [-1, 576, 24, 30]               0\n",
            "          Conv2d-103           [-1, 96, 24, 30]          55,296\n",
            "     BatchNorm2d-104           [-1, 96, 24, 30]             192\n",
            "InvertedResidual-105           [-1, 96, 24, 30]               0\n",
            "          Conv2d-106          [-1, 576, 24, 30]          55,296\n",
            "     BatchNorm2d-107          [-1, 576, 24, 30]           1,152\n",
            "           ReLU6-108          [-1, 576, 24, 30]               0\n",
            "          Conv2d-109          [-1, 576, 24, 30]           5,184\n",
            "     BatchNorm2d-110          [-1, 576, 24, 30]           1,152\n",
            "           ReLU6-111          [-1, 576, 24, 30]               0\n",
            "        Identity-112          [-1, 576, 24, 30]               0\n",
            "          Conv2d-113           [-1, 96, 24, 30]          55,296\n",
            "     BatchNorm2d-114           [-1, 96, 24, 30]             192\n",
            "InvertedResidual-115           [-1, 96, 24, 30]               0\n",
            "          Conv2d-116          [-1, 576, 24, 30]          55,296\n",
            "     BatchNorm2d-117          [-1, 576, 24, 30]           1,152\n",
            "           ReLU6-118          [-1, 576, 24, 30]               0\n",
            "          Conv2d-119          [-1, 576, 24, 30]           5,184\n",
            "     BatchNorm2d-120          [-1, 576, 24, 30]           1,152\n",
            "           ReLU6-121          [-1, 576, 24, 30]               0\n",
            "        Identity-122          [-1, 576, 24, 30]               0\n",
            "          Conv2d-123           [-1, 96, 24, 30]          55,296\n",
            "     BatchNorm2d-124           [-1, 96, 24, 30]             192\n",
            "InvertedResidual-125           [-1, 96, 24, 30]               0\n",
            "          Conv2d-126          [-1, 576, 24, 30]          55,296\n",
            "     BatchNorm2d-127          [-1, 576, 24, 30]           1,152\n",
            "           ReLU6-128          [-1, 576, 24, 30]               0\n",
            "          Conv2d-129          [-1, 576, 24, 30]          14,400\n",
            "     BatchNorm2d-130          [-1, 576, 24, 30]           1,152\n",
            "           ReLU6-131          [-1, 576, 24, 30]               0\n",
            "        Identity-132          [-1, 576, 24, 30]               0\n",
            "          Conv2d-133          [-1, 136, 24, 30]          78,336\n",
            "     BatchNorm2d-134          [-1, 136, 24, 30]             272\n",
            "InvertedResidual-135          [-1, 136, 24, 30]               0\n",
            "          Conv2d-136          [-1, 816, 24, 30]         110,976\n",
            "     BatchNorm2d-137          [-1, 816, 24, 30]           1,632\n",
            "           ReLU6-138          [-1, 816, 24, 30]               0\n",
            "          Conv2d-139          [-1, 816, 24, 30]          20,400\n",
            "     BatchNorm2d-140          [-1, 816, 24, 30]           1,632\n",
            "           ReLU6-141          [-1, 816, 24, 30]               0\n",
            "        Identity-142          [-1, 816, 24, 30]               0\n",
            "          Conv2d-143          [-1, 136, 24, 30]         110,976\n",
            "     BatchNorm2d-144          [-1, 136, 24, 30]             272\n",
            "InvertedResidual-145          [-1, 136, 24, 30]               0\n",
            "          Conv2d-146          [-1, 816, 24, 30]         110,976\n",
            "     BatchNorm2d-147          [-1, 816, 24, 30]           1,632\n",
            "           ReLU6-148          [-1, 816, 24, 30]               0\n",
            "          Conv2d-149          [-1, 816, 24, 30]          20,400\n",
            "     BatchNorm2d-150          [-1, 816, 24, 30]           1,632\n",
            "           ReLU6-151          [-1, 816, 24, 30]               0\n",
            "        Identity-152          [-1, 816, 24, 30]               0\n",
            "          Conv2d-153          [-1, 136, 24, 30]         110,976\n",
            "     BatchNorm2d-154          [-1, 136, 24, 30]             272\n",
            "InvertedResidual-155          [-1, 136, 24, 30]               0\n",
            "          Conv2d-156          [-1, 816, 24, 30]         110,976\n",
            "     BatchNorm2d-157          [-1, 816, 24, 30]           1,632\n",
            "           ReLU6-158          [-1, 816, 24, 30]               0\n",
            "          Conv2d-159          [-1, 816, 24, 30]          20,400\n",
            "     BatchNorm2d-160          [-1, 816, 24, 30]           1,632\n",
            "           ReLU6-161          [-1, 816, 24, 30]               0\n",
            "        Identity-162          [-1, 816, 24, 30]               0\n",
            "          Conv2d-163          [-1, 136, 24, 30]         110,976\n",
            "     BatchNorm2d-164          [-1, 136, 24, 30]             272\n",
            "InvertedResidual-165          [-1, 136, 24, 30]               0\n",
            "          Conv2d-166          [-1, 816, 24, 30]         110,976\n",
            "     BatchNorm2d-167          [-1, 816, 24, 30]           1,632\n",
            "           ReLU6-168          [-1, 816, 24, 30]               0\n",
            "          Conv2d-169          [-1, 816, 24, 30]          20,400\n",
            "     BatchNorm2d-170          [-1, 816, 24, 30]           1,632\n",
            "           ReLU6-171          [-1, 816, 24, 30]               0\n",
            "        Identity-172          [-1, 816, 24, 30]               0\n",
            "          Conv2d-173          [-1, 136, 24, 30]         110,976\n",
            "     BatchNorm2d-174          [-1, 136, 24, 30]             272\n",
            "InvertedResidual-175          [-1, 136, 24, 30]               0\n",
            "          Conv2d-176          [-1, 816, 24, 30]         110,976\n",
            "     BatchNorm2d-177          [-1, 816, 24, 30]           1,632\n",
            "           ReLU6-178          [-1, 816, 24, 30]               0\n",
            "       ZeroPad2d-179          [-1, 816, 27, 33]               0\n",
            "Conv2dSameExport-180          [-1, 816, 12, 15]          20,400\n",
            "     BatchNorm2d-181          [-1, 816, 12, 15]           1,632\n",
            "           ReLU6-182          [-1, 816, 12, 15]               0\n",
            "        Identity-183          [-1, 816, 12, 15]               0\n",
            "          Conv2d-184          [-1, 232, 12, 15]         189,312\n",
            "     BatchNorm2d-185          [-1, 232, 12, 15]             464\n",
            "InvertedResidual-186          [-1, 232, 12, 15]               0\n",
            "          Conv2d-187         [-1, 1392, 12, 15]         322,944\n",
            "     BatchNorm2d-188         [-1, 1392, 12, 15]           2,784\n",
            "           ReLU6-189         [-1, 1392, 12, 15]               0\n",
            "          Conv2d-190         [-1, 1392, 12, 15]          34,800\n",
            "     BatchNorm2d-191         [-1, 1392, 12, 15]           2,784\n",
            "           ReLU6-192         [-1, 1392, 12, 15]               0\n",
            "        Identity-193         [-1, 1392, 12, 15]               0\n",
            "          Conv2d-194          [-1, 232, 12, 15]         322,944\n",
            "     BatchNorm2d-195          [-1, 232, 12, 15]             464\n",
            "InvertedResidual-196          [-1, 232, 12, 15]               0\n",
            "          Conv2d-197         [-1, 1392, 12, 15]         322,944\n",
            "     BatchNorm2d-198         [-1, 1392, 12, 15]           2,784\n",
            "           ReLU6-199         [-1, 1392, 12, 15]               0\n",
            "          Conv2d-200         [-1, 1392, 12, 15]          34,800\n",
            "     BatchNorm2d-201         [-1, 1392, 12, 15]           2,784\n",
            "           ReLU6-202         [-1, 1392, 12, 15]               0\n",
            "        Identity-203         [-1, 1392, 12, 15]               0\n",
            "          Conv2d-204          [-1, 232, 12, 15]         322,944\n",
            "     BatchNorm2d-205          [-1, 232, 12, 15]             464\n",
            "InvertedResidual-206          [-1, 232, 12, 15]               0\n",
            "          Conv2d-207         [-1, 1392, 12, 15]         322,944\n",
            "     BatchNorm2d-208         [-1, 1392, 12, 15]           2,784\n",
            "           ReLU6-209         [-1, 1392, 12, 15]               0\n",
            "          Conv2d-210         [-1, 1392, 12, 15]          34,800\n",
            "     BatchNorm2d-211         [-1, 1392, 12, 15]           2,784\n",
            "           ReLU6-212         [-1, 1392, 12, 15]               0\n",
            "        Identity-213         [-1, 1392, 12, 15]               0\n",
            "          Conv2d-214          [-1, 232, 12, 15]         322,944\n",
            "     BatchNorm2d-215          [-1, 232, 12, 15]             464\n",
            "InvertedResidual-216          [-1, 232, 12, 15]               0\n",
            "          Conv2d-217         [-1, 1392, 12, 15]         322,944\n",
            "     BatchNorm2d-218         [-1, 1392, 12, 15]           2,784\n",
            "           ReLU6-219         [-1, 1392, 12, 15]               0\n",
            "          Conv2d-220         [-1, 1392, 12, 15]          34,800\n",
            "     BatchNorm2d-221         [-1, 1392, 12, 15]           2,784\n",
            "           ReLU6-222         [-1, 1392, 12, 15]               0\n",
            "        Identity-223         [-1, 1392, 12, 15]               0\n",
            "          Conv2d-224          [-1, 232, 12, 15]         322,944\n",
            "     BatchNorm2d-225          [-1, 232, 12, 15]             464\n",
            "InvertedResidual-226          [-1, 232, 12, 15]               0\n",
            "          Conv2d-227         [-1, 1392, 12, 15]         322,944\n",
            "     BatchNorm2d-228         [-1, 1392, 12, 15]           2,784\n",
            "           ReLU6-229         [-1, 1392, 12, 15]               0\n",
            "          Conv2d-230         [-1, 1392, 12, 15]          34,800\n",
            "     BatchNorm2d-231         [-1, 1392, 12, 15]           2,784\n",
            "           ReLU6-232         [-1, 1392, 12, 15]               0\n",
            "        Identity-233         [-1, 1392, 12, 15]               0\n",
            "          Conv2d-234          [-1, 232, 12, 15]         322,944\n",
            "     BatchNorm2d-235          [-1, 232, 12, 15]             464\n",
            "InvertedResidual-236          [-1, 232, 12, 15]               0\n",
            "          Conv2d-237         [-1, 1392, 12, 15]         322,944\n",
            "     BatchNorm2d-238         [-1, 1392, 12, 15]           2,784\n",
            "           ReLU6-239         [-1, 1392, 12, 15]               0\n",
            "          Conv2d-240         [-1, 1392, 12, 15]          12,528\n",
            "     BatchNorm2d-241         [-1, 1392, 12, 15]           2,784\n",
            "           ReLU6-242         [-1, 1392, 12, 15]               0\n",
            "        Identity-243         [-1, 1392, 12, 15]               0\n",
            "          Conv2d-244          [-1, 384, 12, 15]         534,528\n",
            "     BatchNorm2d-245          [-1, 384, 12, 15]             768\n",
            "InvertedResidual-246          [-1, 384, 12, 15]               0\n",
            "          Conv2d-247          [-1, 64, 96, 120]          18,432\n",
            "          Conv2d-248          [-1, 128, 48, 60]          55,296\n",
            "          Conv2d-249          [-1, 256, 24, 30]         313,344\n",
            "          Conv2d-250          [-1, 512, 12, 15]       1,769,472\n",
            "            ReLU-251          [-1, 512, 12, 15]               0\n",
            "            ReLU-252          [-1, 512, 12, 15]               0\n",
            "            ReLU-253          [-1, 512, 12, 15]               0\n",
            "            ReLU-254          [-1, 512, 12, 15]               0\n",
            "            ReLU-255          [-1, 512, 12, 15]               0\n",
            "            ReLU-256          [-1, 512, 12, 15]               0\n",
            "            ReLU-257          [-1, 512, 12, 15]               0\n",
            "            ReLU-258          [-1, 512, 12, 15]               0\n",
            "            ReLU-259          [-1, 512, 12, 15]               0\n",
            "            ReLU-260          [-1, 512, 12, 15]               0\n",
            "          Conv2d-261          [-1, 512, 12, 15]       2,359,808\n",
            "            ReLU-262          [-1, 512, 12, 15]               0\n",
            "            ReLU-263          [-1, 512, 12, 15]               0\n",
            "            ReLU-264          [-1, 512, 12, 15]               0\n",
            "            ReLU-265          [-1, 512, 12, 15]               0\n",
            "            ReLU-266          [-1, 512, 12, 15]               0\n",
            "            ReLU-267          [-1, 512, 12, 15]               0\n",
            "            ReLU-268          [-1, 512, 12, 15]               0\n",
            "            ReLU-269          [-1, 512, 12, 15]               0\n",
            "            ReLU-270          [-1, 512, 12, 15]               0\n",
            "            ReLU-271          [-1, 512, 12, 15]               0\n",
            "          Conv2d-272          [-1, 512, 12, 15]       2,359,808\n",
            "        Identity-273          [-1, 512, 12, 15]               0\n",
            "ResidualConvUnit_custom-274          [-1, 512, 12, 15]               0\n",
            "          Conv2d-275          [-1, 256, 24, 30]         131,328\n",
            "FeatureFusionBlock_custom-276          [-1, 256, 24, 30]               0\n",
            "            ReLU-277          [-1, 256, 24, 30]               0\n",
            "            ReLU-278          [-1, 256, 24, 30]               0\n",
            "            ReLU-279          [-1, 256, 24, 30]               0\n",
            "            ReLU-280          [-1, 256, 24, 30]               0\n",
            "            ReLU-281          [-1, 256, 24, 30]               0\n",
            "            ReLU-282          [-1, 256, 24, 30]               0\n",
            "            ReLU-283          [-1, 256, 24, 30]               0\n",
            "            ReLU-284          [-1, 256, 24, 30]               0\n",
            "            ReLU-285          [-1, 256, 24, 30]               0\n",
            "            ReLU-286          [-1, 256, 24, 30]               0\n",
            "          Conv2d-287          [-1, 256, 24, 30]         590,080\n",
            "            ReLU-288          [-1, 256, 24, 30]               0\n",
            "            ReLU-289          [-1, 256, 24, 30]               0\n",
            "            ReLU-290          [-1, 256, 24, 30]               0\n",
            "            ReLU-291          [-1, 256, 24, 30]               0\n",
            "            ReLU-292          [-1, 256, 24, 30]               0\n",
            "            ReLU-293          [-1, 256, 24, 30]               0\n",
            "            ReLU-294          [-1, 256, 24, 30]               0\n",
            "            ReLU-295          [-1, 256, 24, 30]               0\n",
            "            ReLU-296          [-1, 256, 24, 30]               0\n",
            "            ReLU-297          [-1, 256, 24, 30]               0\n",
            "          Conv2d-298          [-1, 256, 24, 30]         590,080\n",
            "        Identity-299          [-1, 256, 24, 30]               0\n",
            "ResidualConvUnit_custom-300          [-1, 256, 24, 30]               0\n",
            "        Identity-301          [-1, 256, 24, 30]               0\n",
            "            ReLU-302          [-1, 256, 24, 30]               0\n",
            "            ReLU-303          [-1, 256, 24, 30]               0\n",
            "            ReLU-304          [-1, 256, 24, 30]               0\n",
            "            ReLU-305          [-1, 256, 24, 30]               0\n",
            "            ReLU-306          [-1, 256, 24, 30]               0\n",
            "            ReLU-307          [-1, 256, 24, 30]               0\n",
            "            ReLU-308          [-1, 256, 24, 30]               0\n",
            "            ReLU-309          [-1, 256, 24, 30]               0\n",
            "            ReLU-310          [-1, 256, 24, 30]               0\n",
            "            ReLU-311          [-1, 256, 24, 30]               0\n",
            "          Conv2d-312          [-1, 256, 24, 30]         590,080\n",
            "            ReLU-313          [-1, 256, 24, 30]               0\n",
            "            ReLU-314          [-1, 256, 24, 30]               0\n",
            "            ReLU-315          [-1, 256, 24, 30]               0\n",
            "            ReLU-316          [-1, 256, 24, 30]               0\n",
            "            ReLU-317          [-1, 256, 24, 30]               0\n",
            "            ReLU-318          [-1, 256, 24, 30]               0\n",
            "            ReLU-319          [-1, 256, 24, 30]               0\n",
            "            ReLU-320          [-1, 256, 24, 30]               0\n",
            "            ReLU-321          [-1, 256, 24, 30]               0\n",
            "            ReLU-322          [-1, 256, 24, 30]               0\n",
            "          Conv2d-323          [-1, 256, 24, 30]         590,080\n",
            "        Identity-324          [-1, 256, 24, 30]               0\n",
            "ResidualConvUnit_custom-325          [-1, 256, 24, 30]               0\n",
            "          Conv2d-326          [-1, 128, 48, 60]          32,896\n",
            "FeatureFusionBlock_custom-327          [-1, 128, 48, 60]               0\n",
            "            ReLU-328          [-1, 128, 48, 60]               0\n",
            "            ReLU-329          [-1, 128, 48, 60]               0\n",
            "            ReLU-330          [-1, 128, 48, 60]               0\n",
            "            ReLU-331          [-1, 128, 48, 60]               0\n",
            "            ReLU-332          [-1, 128, 48, 60]               0\n",
            "            ReLU-333          [-1, 128, 48, 60]               0\n",
            "            ReLU-334          [-1, 128, 48, 60]               0\n",
            "            ReLU-335          [-1, 128, 48, 60]               0\n",
            "            ReLU-336          [-1, 128, 48, 60]               0\n",
            "            ReLU-337          [-1, 128, 48, 60]               0\n",
            "          Conv2d-338          [-1, 128, 48, 60]         147,584\n",
            "            ReLU-339          [-1, 128, 48, 60]               0\n",
            "            ReLU-340          [-1, 128, 48, 60]               0\n",
            "            ReLU-341          [-1, 128, 48, 60]               0\n",
            "            ReLU-342          [-1, 128, 48, 60]               0\n",
            "            ReLU-343          [-1, 128, 48, 60]               0\n",
            "            ReLU-344          [-1, 128, 48, 60]               0\n",
            "            ReLU-345          [-1, 128, 48, 60]               0\n",
            "            ReLU-346          [-1, 128, 48, 60]               0\n",
            "            ReLU-347          [-1, 128, 48, 60]               0\n",
            "            ReLU-348          [-1, 128, 48, 60]               0\n",
            "          Conv2d-349          [-1, 128, 48, 60]         147,584\n",
            "        Identity-350          [-1, 128, 48, 60]               0\n",
            "ResidualConvUnit_custom-351          [-1, 128, 48, 60]               0\n",
            "        Identity-352          [-1, 128, 48, 60]               0\n",
            "            ReLU-353          [-1, 128, 48, 60]               0\n",
            "            ReLU-354          [-1, 128, 48, 60]               0\n",
            "            ReLU-355          [-1, 128, 48, 60]               0\n",
            "            ReLU-356          [-1, 128, 48, 60]               0\n",
            "            ReLU-357          [-1, 128, 48, 60]               0\n",
            "            ReLU-358          [-1, 128, 48, 60]               0\n",
            "            ReLU-359          [-1, 128, 48, 60]               0\n",
            "            ReLU-360          [-1, 128, 48, 60]               0\n",
            "            ReLU-361          [-1, 128, 48, 60]               0\n",
            "            ReLU-362          [-1, 128, 48, 60]               0\n",
            "          Conv2d-363          [-1, 128, 48, 60]         147,584\n",
            "            ReLU-364          [-1, 128, 48, 60]               0\n",
            "            ReLU-365          [-1, 128, 48, 60]               0\n",
            "            ReLU-366          [-1, 128, 48, 60]               0\n",
            "            ReLU-367          [-1, 128, 48, 60]               0\n",
            "            ReLU-368          [-1, 128, 48, 60]               0\n",
            "            ReLU-369          [-1, 128, 48, 60]               0\n",
            "            ReLU-370          [-1, 128, 48, 60]               0\n",
            "            ReLU-371          [-1, 128, 48, 60]               0\n",
            "            ReLU-372          [-1, 128, 48, 60]               0\n",
            "            ReLU-373          [-1, 128, 48, 60]               0\n",
            "          Conv2d-374          [-1, 128, 48, 60]         147,584\n",
            "        Identity-375          [-1, 128, 48, 60]               0\n",
            "ResidualConvUnit_custom-376          [-1, 128, 48, 60]               0\n",
            "          Conv2d-377          [-1, 64, 96, 120]           8,256\n",
            "FeatureFusionBlock_custom-378          [-1, 64, 96, 120]               0\n",
            "            ReLU-379          [-1, 64, 96, 120]               0\n",
            "            ReLU-380          [-1, 64, 96, 120]               0\n",
            "            ReLU-381          [-1, 64, 96, 120]               0\n",
            "            ReLU-382          [-1, 64, 96, 120]               0\n",
            "            ReLU-383          [-1, 64, 96, 120]               0\n",
            "            ReLU-384          [-1, 64, 96, 120]               0\n",
            "            ReLU-385          [-1, 64, 96, 120]               0\n",
            "            ReLU-386          [-1, 64, 96, 120]               0\n",
            "            ReLU-387          [-1, 64, 96, 120]               0\n",
            "            ReLU-388          [-1, 64, 96, 120]               0\n",
            "          Conv2d-389          [-1, 64, 96, 120]          36,928\n",
            "            ReLU-390          [-1, 64, 96, 120]               0\n",
            "            ReLU-391          [-1, 64, 96, 120]               0\n",
            "            ReLU-392          [-1, 64, 96, 120]               0\n",
            "            ReLU-393          [-1, 64, 96, 120]               0\n",
            "            ReLU-394          [-1, 64, 96, 120]               0\n",
            "            ReLU-395          [-1, 64, 96, 120]               0\n",
            "            ReLU-396          [-1, 64, 96, 120]               0\n",
            "            ReLU-397          [-1, 64, 96, 120]               0\n",
            "            ReLU-398          [-1, 64, 96, 120]               0\n",
            "            ReLU-399          [-1, 64, 96, 120]               0\n",
            "          Conv2d-400          [-1, 64, 96, 120]          36,928\n",
            "        Identity-401          [-1, 64, 96, 120]               0\n",
            "ResidualConvUnit_custom-402          [-1, 64, 96, 120]               0\n",
            "        Identity-403          [-1, 64, 96, 120]               0\n",
            "            ReLU-404          [-1, 64, 96, 120]               0\n",
            "            ReLU-405          [-1, 64, 96, 120]               0\n",
            "            ReLU-406          [-1, 64, 96, 120]               0\n",
            "            ReLU-407          [-1, 64, 96, 120]               0\n",
            "            ReLU-408          [-1, 64, 96, 120]               0\n",
            "            ReLU-409          [-1, 64, 96, 120]               0\n",
            "            ReLU-410          [-1, 64, 96, 120]               0\n",
            "            ReLU-411          [-1, 64, 96, 120]               0\n",
            "            ReLU-412          [-1, 64, 96, 120]               0\n",
            "            ReLU-413          [-1, 64, 96, 120]               0\n",
            "          Conv2d-414          [-1, 64, 96, 120]          36,928\n",
            "            ReLU-415          [-1, 64, 96, 120]               0\n",
            "            ReLU-416          [-1, 64, 96, 120]               0\n",
            "            ReLU-417          [-1, 64, 96, 120]               0\n",
            "            ReLU-418          [-1, 64, 96, 120]               0\n",
            "            ReLU-419          [-1, 64, 96, 120]               0\n",
            "            ReLU-420          [-1, 64, 96, 120]               0\n",
            "            ReLU-421          [-1, 64, 96, 120]               0\n",
            "            ReLU-422          [-1, 64, 96, 120]               0\n",
            "            ReLU-423          [-1, 64, 96, 120]               0\n",
            "            ReLU-424          [-1, 64, 96, 120]               0\n",
            "          Conv2d-425          [-1, 64, 96, 120]          36,928\n",
            "        Identity-426          [-1, 64, 96, 120]               0\n",
            "ResidualConvUnit_custom-427          [-1, 64, 96, 120]               0\n",
            "          Conv2d-428         [-1, 64, 192, 240]           4,160\n",
            "FeatureFusionBlock_custom-429         [-1, 64, 192, 240]               0\n",
            "          Conv2d-430         [-1, 32, 192, 240]          18,464\n",
            "     Interpolate-431         [-1, 32, 384, 480]               0\n",
            "          Conv2d-432         [-1, 32, 384, 480]           9,248\n",
            "            ReLU-433         [-1, 32, 384, 480]               0\n",
            "            ReLU-434         [-1, 32, 384, 480]               0\n",
            "            ReLU-435         [-1, 32, 384, 480]               0\n",
            "            ReLU-436         [-1, 32, 384, 480]               0\n",
            "            ReLU-437         [-1, 32, 384, 480]               0\n",
            "            ReLU-438         [-1, 32, 384, 480]               0\n",
            "            ReLU-439         [-1, 32, 384, 480]               0\n",
            "            ReLU-440         [-1, 32, 384, 480]               0\n",
            "            ReLU-441         [-1, 32, 384, 480]               0\n",
            "            ReLU-442         [-1, 32, 384, 480]               0\n",
            "          Conv2d-443          [-1, 1, 384, 480]              33\n",
            "            ReLU-444          [-1, 1, 384, 480]               0\n",
            "        Identity-445          [-1, 1, 384, 480]               0\n",
            "================================================================\n",
            "Total params: 16,600,929\n",
            "Trainable params: 16,600,929\n",
            "Non-trainable params: 0\n",
            "----------------------------------------------------------------\n",
            "Input size (MB): 2.11\n",
            "Forward/backward pass size (MB): 2343.57\n",
            "Params size (MB): 63.33\n",
            "Estimated Total Size (MB): 2409.01\n",
            "----------------------------------------------------------------\n"
          ]
        }
      ]
    },
    {
      "cell_type": "markdown",
      "id": "antique-wallet",
      "metadata": {
        "id": "antique-wallet"
      },
      "source": [
        "Load transforms to resize and normalize the image for large or small model"
      ]
    },
    {
      "cell_type": "code",
      "execution_count": 28,
      "id": "prepared-penguin",
      "metadata": {
        "id": "prepared-penguin",
        "outputId": "060636dd-7707-4843-965c-d4e0aba0e63f",
        "colab": {
          "base_uri": "https://localhost:8080/"
        }
      },
      "outputs": [
        {
          "output_type": "stream",
          "name": "stderr",
          "text": [
            "Using cache found in /root/.cache/torch/hub/intel-isl_MiDaS_master\n"
          ]
        }
      ],
      "source": [
        "midas_transforms = torch.hub.load(\"intel-isl/MiDaS\", \"transforms\")\n",
        "\n",
        "if model_type == \"DPT_Large\" or model_type == \"DPT_Hybrid\":\n",
        "    transform = midas_transforms.dpt_transform\n",
        "else:\n",
        "    transform = midas_transforms.small_transform"
      ]
    },
    {
      "cell_type": "markdown",
      "id": "former-reservoir",
      "metadata": {
        "id": "former-reservoir"
      },
      "source": [
        "Load image and apply transforms"
      ]
    },
    {
      "cell_type": "code",
      "execution_count": 19,
      "id": "engaged-platinum",
      "metadata": {
        "id": "engaged-platinum"
      },
      "outputs": [],
      "source": [
        "img = cv2.imread(filename)\n",
        "img = cv2.cvtColor(img, cv2.COLOR_BGR2RGB)\n",
        "\n",
        "input_batch = transform(img).to(device)"
      ]
    },
    {
      "cell_type": "code",
      "source": [
        "input_batch.shape"
      ],
      "metadata": {
        "colab": {
          "base_uri": "https://localhost:8080/"
        },
        "id": "MXoWS-Lbcmay",
        "outputId": "86636ba5-b1a4-4c90-ed47-f02bfd84c84e"
      },
      "id": "MXoWS-Lbcmay",
      "execution_count": 20,
      "outputs": [
        {
          "output_type": "execute_result",
          "data": {
            "text/plain": [
              "torch.Size([1, 3, 192, 256])"
            ]
          },
          "metadata": {},
          "execution_count": 20
        }
      ]
    },
    {
      "cell_type": "markdown",
      "id": "running-investment",
      "metadata": {
        "id": "running-investment"
      },
      "source": [
        "Predict and resize to original resolution"
      ]
    },
    {
      "cell_type": "code",
      "execution_count": 21,
      "id": "historic-atlantic",
      "metadata": {
        "id": "historic-atlantic"
      },
      "outputs": [],
      "source": [
        "with torch.no_grad():\n",
        "    prediction = midas(input_batch)\n",
        "\n",
        "    prediction = torch.nn.functional.interpolate(\n",
        "        prediction.unsqueeze(1),\n",
        "        size=img.shape[:2],\n",
        "        mode=\"bicubic\",\n",
        "        align_corners=False,\n",
        "    ).squeeze()\n",
        "\n",
        "output = prediction.cpu().numpy()"
      ]
    },
    {
      "cell_type": "markdown",
      "id": "fifty-kitty",
      "metadata": {
        "id": "fifty-kitty"
      },
      "source": [
        "Show result"
      ]
    },
    {
      "cell_type": "code",
      "execution_count": 22,
      "id": "spoken-economics",
      "metadata": {
        "id": "spoken-economics",
        "outputId": "b5d7842c-449f-4d2a-9a18-277f775548a0",
        "colab": {
          "base_uri": "https://localhost:8080/",
          "height": 287
        }
      },
      "outputs": [
        {
          "output_type": "execute_result",
          "data": {
            "text/plain": [
              "<matplotlib.image.AxesImage at 0x7f0dcc5b5b90>"
            ]
          },
          "metadata": {},
          "execution_count": 22
        },
        {
          "output_type": "display_data",
          "data": {
            "image/png": "[encoded data removed]",
            "text/plain": [
              "<Figure size 432x288 with 1 Axes>"
            ]
          },
          "metadata": {
            "needs_background": "light"
          }
        }
      ],
      "source": [
        "plt.imshow(output)\n",
        "# plt.show()"
      ]
    },
    {
      "cell_type": "markdown",
      "source": [
        "Let's try to modify the model to include partial depth informations"
      ],
      "metadata": {
        "id": "XFTez_rRlXGh"
      },
      "id": "XFTez_rRlXGh"
    },
    {
      "cell_type": "code",
      "source": [
        "#First, let's fix the pretrained values :\n",
        "for parameter in midas.parameters(): \n",
        "    parameter.requires_grad=False"
      ],
      "metadata": {
        "id": "5vrQvNellWee"
      },
      "id": "5vrQvNellWee",
      "execution_count": 30,
      "outputs": []
    },
    {
      "cell_type": "code",
      "source": [
        "import torch.nn as nn\n",
        "class MyModel(nn.Module):\n",
        "    def __init__(self):\n",
        "        super(MyModel, self).__init__()\n",
        "        self.md = midas\n",
        "        self.fcomb = nn.Conv2d(2,1,(20,20))\n",
        "        self.ReLU=nn.ReLU()\n",
        "    def forward(self, x, y):\n",
        "        x1 = self.md(x)\n",
        "        x2 = self.fcomb(torch.cat((x1.unsqueeze(1),y.unsqueeze(1)),1))\n",
        "        x3 = self.ReLU(x2)\n",
        "        return x2\n"
      ],
      "metadata": {
        "id": "sryFoPChlgJA"
      },
      "id": "sryFoPChlgJA",
      "execution_count": 57,
      "outputs": []
    },
    {
      "cell_type": "code",
      "source": [
        "import random\n",
        "x=input_batch\n",
        "res=midas(input_batch)\n",
        "y=torch.zeros_like(res)\n",
        "lx,ly=res.shape[1],res.shape[2]\n",
        "for _ in range(180):\n",
        "  i,j=random.randint(0,lx-1),random.randint(0,ly-1)\n",
        "  y[0,i,j]=res[0,i,j]\n"
      ],
      "metadata": {
        "id": "jzOjF2JeoxM3"
      },
      "id": "jzOjF2JeoxM3",
      "execution_count": 51,
      "outputs": []
    },
    {
      "cell_type": "code",
      "source": [
        "model=MyModel()\n",
        "model.to(device)\n",
        "model.eval()\n",
        "res=model(x,y)"
      ],
      "metadata": {
        "colab": {
          "base_uri": "https://localhost:8080/"
        },
        "id": "rqPJVrJKtQkS",
        "outputId": "f95759af-a498-497d-dab7-701645274857"
      },
      "id": "rqPJVrJKtQkS",
      "execution_count": 59,
      "outputs": [
        {
          "output_type": "execute_result",
          "data": {
            "text/plain": [
              "tensor([[[[-205.8777, -209.4063, -200.3698,  ...,  -75.9047,  -76.5365,\n",
              "            -76.7062],\n",
              "          [-205.9474, -208.8449, -201.3086,  ...,  -75.2680,  -76.0571,\n",
              "            -76.2739],\n",
              "          [-193.5804, -206.8413, -209.4680,  ...,  -75.4426,  -75.9395,\n",
              "            -76.2922],\n",
              "          ...,\n",
              "          [-760.2878, -784.2225, -721.0006,  ..., -881.4102, -823.6840,\n",
              "           -859.8683],\n",
              "          [-754.3086, -753.3676, -788.0999,  ..., -842.2870, -835.6967,\n",
              "           -838.7532],\n",
              "          [-779.3392, -768.6890, -768.2100,  ..., -801.1179, -807.8602,\n",
              "           -802.6893]]]], device='cuda:0', grad_fn=<AddBackward0>)"
            ]
          },
          "metadata": {},
          "execution_count": 59
        }
      ]
    }
  ],
  "metadata": {
    "colab": {
      "name": "Copy of intelisl_midas_v2.ipynb",
      "provenance": []
    },
    "accelerator": "GPU",
    "language_info": {
      "name": "python"
    },
    "kernelspec": {
      "name": "python3",
      "display_name": "Python 3"
    },
    "widgets": {
      "application/vnd.jupyter.widget-state+json": {
        "2e76cd2e375e4435bd46ab690f12654e": {
          "model_module": "@jupyter-widgets/controls",
          "model_name": "HBoxModel",
          "model_module_version": "1.5.0",
          "state": {
            "_view_name": "HBoxView",
            "_dom_classes": [],
            "_model_name": "HBoxModel",
            "_view_module": "@jupyter-widgets/controls",
            "_model_module_version": "1.5.0",
            "_view_count": null,
            "_view_module_version": "1.5.0",
            "box_style": "",
            "layout": "IPY_MODEL_c1bbe52789c144e4a172e981b1094b68",
            "_model_module": "@jupyter-widgets/controls",
            "children": [
              "IPY_MODEL_f77d148004634aa1ad50c5ed11185dbe",
              "IPY_MODEL_e89eed54a68b45348d69952aa17062ca",
              "IPY_MODEL_625d14b426684555bae45dbc5b12fca3"
            ]
          }
        },
        "c1bbe52789c144e4a172e981b1094b68": {
          "model_module": "@jupyter-widgets/base",
          "model_name": "LayoutModel",
          "model_module_version": "1.2.0",
          "state": {
            "_view_name": "LayoutView",
            "grid_template_rows": null,
            "right": null,
            "justify_content": null,
            "_view_module": "@jupyter-widgets/base",
            "overflow": null,
            "_model_module_version": "1.2.0",
            "_view_count": null,
            "flex_flow": null,
            "width": null,
            "min_width": null,
            "border": null,
            "align_items": null,
            "bottom": null,
            "_model_module": "@jupyter-widgets/base",
            "top": null,
            "grid_column": null,
            "overflow_y": null,
            "overflow_x": null,
            "grid_auto_flow": null,
            "grid_area": null,
            "grid_template_columns": null,
            "flex": null,
            "_model_name": "LayoutModel",
            "justify_items": null,
            "grid_row": null,
            "max_height": null,
            "align_content": null,
            "visibility": null,
            "align_self": null,
            "height": null,
            "min_height": null,
            "padding": null,
            "grid_auto_rows": null,
            "grid_gap": null,
            "max_width": null,
            "order": null,
            "_view_module_version": "1.2.0",
            "grid_template_areas": null,
            "object_position": null,
            "object_fit": null,
            "grid_auto_columns": null,
            "margin": null,
            "display": null,
            "left": null
          }
        },
        "f77d148004634aa1ad50c5ed11185dbe": {
          "model_module": "@jupyter-widgets/controls",
          "model_name": "HTMLModel",
          "model_module_version": "1.5.0",
          "state": {
            "_view_name": "HTMLView",
            "style": "IPY_MODEL_0bdaef72a4894f52ae067633bfe1e540",
            "_dom_classes": [],
            "description": "",
            "_model_name": "HTMLModel",
            "placeholder": "​",
            "_view_module": "@jupyter-widgets/controls",
            "_model_module_version": "1.5.0",
            "value": "100%",
            "_view_count": null,
            "_view_module_version": "1.5.0",
            "description_tooltip": null,
            "_model_module": "@jupyter-widgets/controls",
            "layout": "IPY_MODEL_b747debb1f34499fb0a319c04ce86b3d"
          }
        },
        "e89eed54a68b45348d69952aa17062ca": {
          "model_module": "@jupyter-widgets/controls",
          "model_name": "FloatProgressModel",
          "model_module_version": "1.5.0",
          "state": {
            "_view_name": "ProgressView",
            "style": "IPY_MODEL_801d3094342248c0bbc354e897cb6623",
            "_dom_classes": [],
            "description": "",
            "_model_name": "FloatProgressModel",
            "bar_style": "success",
            "max": 85761505,
            "_view_module": "@jupyter-widgets/controls",
            "_model_module_version": "1.5.0",
            "value": 85761505,
            "_view_count": null,
            "_view_module_version": "1.5.0",
            "orientation": "horizontal",
            "min": 0,
            "description_tooltip": null,
            "_model_module": "@jupyter-widgets/controls",
            "layout": "IPY_MODEL_842c2816f0e24d578390c6d30847fd87"
          }
        },
        "625d14b426684555bae45dbc5b12fca3": {
          "model_module": "@jupyter-widgets/controls",
          "model_name": "HTMLModel",
          "model_module_version": "1.5.0",
          "state": {
            "_view_name": "HTMLView",
            "style": "IPY_MODEL_a1dfe6781b5249a6848d78fa231b2c52",
            "_dom_classes": [],
            "description": "",
            "_model_name": "HTMLModel",
            "placeholder": "​",
            "_view_module": "@jupyter-widgets/controls",
            "_model_module_version": "1.5.0",
            "value": " 81.8M/81.8M [00:00&lt;00:00, 116MB/s]",
            "_view_count": null,
            "_view_module_version": "1.5.0",
            "description_tooltip": null,
            "_model_module": "@jupyter-widgets/controls",
            "layout": "IPY_MODEL_d1f5411037574dc98b11356a7fac06ee"
          }
        },
        "0bdaef72a4894f52ae067633bfe1e540": {
          "model_module": "@jupyter-widgets/controls",
          "model_name": "DescriptionStyleModel",
          "model_module_version": "1.5.0",
          "state": {
            "_view_name": "StyleView",
            "_model_name": "DescriptionStyleModel",
            "description_width": "",
            "_view_module": "@jupyter-widgets/base",
            "_model_module_version": "1.5.0",
            "_view_count": null,
            "_view_module_version": "1.2.0",
            "_model_module": "@jupyter-widgets/controls"
          }
        },
        "b747debb1f34499fb0a319c04ce86b3d": {
          "model_module": "@jupyter-widgets/base",
          "model_name": "LayoutModel",
          "model_module_version": "1.2.0",
          "state": {
            "_view_name": "LayoutView",
            "grid_template_rows": null,
            "right": null,
            "justify_content": null,
            "_view_module": "@jupyter-widgets/base",
            "overflow": null,
            "_model_module_version": "1.2.0",
            "_view_count": null,
            "flex_flow": null,
            "width": null,
            "min_width": null,
            "border": null,
            "align_items": null,
            "bottom": null,
            "_model_module": "@jupyter-widgets/base",
            "top": null,
            "grid_column": null,
            "overflow_y": null,
            "overflow_x": null,
            "grid_auto_flow": null,
            "grid_area": null,
            "grid_template_columns": null,
            "flex": null,
            "_model_name": "LayoutModel",
            "justify_items": null,
            "grid_row": null,
            "max_height": null,
            "align_content": null,
            "visibility": null,
            "align_self": null,
            "height": null,
            "min_height": null,
            "padding": null,
            "grid_auto_rows": null,
            "grid_gap": null,
            "max_width": null,
            "order": null,
            "_view_module_version": "1.2.0",
            "grid_template_areas": null,
            "object_position": null,
            "object_fit": null,
            "grid_auto_columns": null,
            "margin": null,
            "display": null,
            "left": null
          }
        },
        "801d3094342248c0bbc354e897cb6623": {
          "model_module": "@jupyter-widgets/controls",
          "model_name": "ProgressStyleModel",
          "model_module_version": "1.5.0",
          "state": {
            "_view_name": "StyleView",
            "_model_name": "ProgressStyleModel",
            "description_width": "",
            "_view_module": "@jupyter-widgets/base",
            "_model_module_version": "1.5.0",
            "_view_count": null,
            "_view_module_version": "1.2.0",
            "bar_color": null,
            "_model_module": "@jupyter-widgets/controls"
          }
        },
        "842c2816f0e24d578390c6d30847fd87": {
          "model_module": "@jupyter-widgets/base",
          "model_name": "LayoutModel",
          "model_module_version": "1.2.0",
          "state": {
            "_view_name": "LayoutView",
            "grid_template_rows": null,
            "right": null,
            "justify_content": null,
            "_view_module": "@jupyter-widgets/base",
            "overflow": null,
            "_model_module_version": "1.2.0",
            "_view_count": null,
            "flex_flow": null,
            "width": null,
            "min_width": null,
            "border": null,
            "align_items": null,
            "bottom": null,
            "_model_module": "@jupyter-widgets/base",
            "top": null,
            "grid_column": null,
            "overflow_y": null,
            "overflow_x": null,
            "grid_auto_flow": null,
            "grid_area": null,
            "grid_template_columns": null,
            "flex": null,
            "_model_name": "LayoutModel",
            "justify_items": null,
            "grid_row": null,
            "max_height": null,
            "align_content": null,
            "visibility": null,
            "align_self": null,
            "height": null,
            "min_height": null,
            "padding": null,
            "grid_auto_rows": null,
            "grid_gap": null,
            "max_width": null,
            "order": null,
            "_view_module_version": "1.2.0",
            "grid_template_areas": null,
            "object_position": null,
            "object_fit": null,
            "grid_auto_columns": null,
            "margin": null,
            "display": null,
            "left": null
          }
        },
        "a1dfe6781b5249a6848d78fa231b2c52": {
          "model_module": "@jupyter-widgets/controls",
          "model_name": "DescriptionStyleModel",
          "model_module_version": "1.5.0",
          "state": {
            "_view_name": "StyleView",
            "_model_name": "DescriptionStyleModel",
            "description_width": "",
            "_view_module": "@jupyter-widgets/base",
            "_model_module_version": "1.5.0",
            "_view_count": null,
            "_view_module_version": "1.2.0",
            "_model_module": "@jupyter-widgets/controls"
          }
        },
        "d1f5411037574dc98b11356a7fac06ee": {
          "model_module": "@jupyter-widgets/base",
          "model_name": "LayoutModel",
          "model_module_version": "1.2.0",
          "state": {
            "_view_name": "LayoutView",
            "grid_template_rows": null,
            "right": null,
            "justify_content": null,
            "_view_module": "@jupyter-widgets/base",
            "overflow": null,
            "_model_module_version": "1.2.0",
            "_view_count": null,
            "flex_flow": null,
            "width": null,
            "min_width": null,
            "border": null,
            "align_items": null,
            "bottom": null,
            "_model_module": "@jupyter-widgets/base",
            "top": null,
            "grid_column": null,
            "overflow_y": null,
            "overflow_x": null,
            "grid_auto_flow": null,
            "grid_area": null,
            "grid_template_columns": null,
            "flex": null,
            "_model_name": "LayoutModel",
            "justify_items": null,
            "grid_row": null,
            "max_height": null,
            "align_content": null,
            "visibility": null,
            "align_self": null,
            "height": null,
            "min_height": null,
            "padding": null,
            "grid_auto_rows": null,
            "grid_gap": null,
            "max_width": null,
            "order": null,
            "_view_module_version": "1.2.0",
            "grid_template_areas": null,
            "object_position": null,
            "object_fit": null,
            "grid_auto_columns": null,
            "margin": null,
            "display": null,
            "left": null
          }
        }
      }
    }
  },
  "nbformat": 4,
  "nbformat_minor": 5
}